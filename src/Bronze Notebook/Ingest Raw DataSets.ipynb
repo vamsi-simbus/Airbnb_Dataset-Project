{
 "cells": [
  {
   "cell_type": "code",
   "execution_count": 0,
   "metadata": {
    "application/vnd.databricks.v1+cell": {
     "cellMetadata": {
      "byteLimit": 2048000,
      "rowLimit": 10000
     },
     "inputWidgets": {},
     "nuid": "228ea351-487f-46c0-9969-c3a5bd5911ea",
     "showTitle": false,
     "tableResultSettingsMap": {},
     "title": ""
    }
   },
   "outputs": [],
   "source": [
    "service_credential = dbutils.secrets.get(scope=\"akv_db_scope_training\", key=\"dbtrainingspnsecret\")\n",
    "# Connecting to ADLS Gen 2\n",
    "spark.conf.set(\"fs.azure.account.auth.type.azstoragetraining.dfs.core.windows.net\", \"OAuth\")\n",
    "spark.conf.set(\"fs.azure.account.oauth.provider.type.azstoragetraining.dfs.core.windows.net\", \"org.apache.hadoop.fs.azurebfs.oauth2.ClientCredsTokenProvider\")\n",
    "spark.conf.set(\"fs.azure.account.oauth2.client.id.azstoragetraining.dfs.core.windows.net\", \"3f91e76c-33f1-4ec5-bb48-a65ceebe2b98\")\n",
    "spark.conf.set(\"fs.azure.account.oauth2.client.secret.azstoragetraining.dfs.core.windows.net\", service_credential)\n",
    "spark.conf.set(\"fs.azure.account.oauth2.client.endpoint.azstoragetraining.dfs.core.windows.net\", \"https://login.microsoftonline.com/45da25de-8003-4abf-bea8-55aba615e5e7/oauth2/token\")"
   ]
  },
  {
   "cell_type": "code",
   "execution_count": 0,
   "metadata": {
    "application/vnd.databricks.v1+cell": {
     "cellMetadata": {
      "byteLimit": 2048000,
      "rowLimit": 10000
     },
     "inputWidgets": {},
     "nuid": "6283c393-125b-43b2-a8c4-edd3ce30e443",
     "showTitle": false,
     "tableResultSettingsMap": {},
     "title": ""
    }
   },
   "outputs": [],
   "source": [
    "#list out all files in container inside-air-bnb-dataset\n",
    "dbutils.fs.ls(\"abfss://inside-airbnb-dataset@azstoragetraining.dfs.core.windows.net\")"
   ]
  },
  {
   "cell_type": "code",
   "execution_count": 0,
   "metadata": {
    "application/vnd.databricks.v1+cell": {
     "cellMetadata": {
      "byteLimit": 2048000,
      "rowLimit": 10000
     },
     "inputWidgets": {},
     "nuid": "c7c66cd1-3df1-447f-a217-81d7b32bf969",
     "showTitle": false,
     "tableResultSettingsMap": {},
     "title": ""
    }
   },
   "outputs": [],
   "source": [
    "#file paths\n",
    "listings_file_path = \"abfss://inside-airbnb-dataset@azstoragetraining.dfs.core.windows.net/albany-listings.csv\"\n",
    "reviews_file_path = \"abfss://inside-airbnb-dataset@azstoragetraining.dfs.core.windows.net/albany-reviews.csv\"\n",
    "\n",
    "#read all files into dataframes(csv format files)\n",
    "listings = (spark.read.format(\"csv\") \n",
    "    .option(\"header\", \"true\") \n",
    "    .option(\"inferSchema\", \"true\") \n",
    "    .load(listings_file_path) )\n",
    "# display(listings)\n",
    "\n",
    "reviews = (spark.read.format(\"csv\") \n",
    "    .option(\"header\", \"true\") \n",
    "    .option(\"inferSchema\", \"true\") \n",
    "    .load(reviews_file_path) )\n",
    "# display(reviews)"
   ]
  },
  {
   "cell_type": "code",
   "execution_count": 0,
   "metadata": {
    "application/vnd.databricks.v1+cell": {
     "cellMetadata": {
      "byteLimit": 2048000,
      "implicitDf": true,
      "rowLimit": 10000
     },
     "inputWidgets": {},
     "nuid": "c9b9cd7f-6a06-48da-87e3-c1175064e495",
     "showTitle": false,
     "tableResultSettingsMap": {},
     "title": ""
    }
   },
   "outputs": [],
   "source": [
    "%sql\n",
    "SHOW CATALOGS"
   ]
  },
  {
   "cell_type": "code",
   "execution_count": 0,
   "metadata": {
    "application/vnd.databricks.v1+cell": {
     "cellMetadata": {
      "byteLimit": 2048000,
      "implicitDf": true,
      "rowLimit": 10000
     },
     "inputWidgets": {},
     "nuid": "c76b5856-1d20-45ad-ac63-b5a57f5d7f8c",
     "showTitle": false,
     "tableResultSettingsMap": {},
     "title": ""
    }
   },
   "outputs": [],
   "source": [
    "%sql\n",
    "USE CATALOG az_adb_simbus_training;\n",
    "CREATE SCHEMA IF NOT EXISTS az_adb_simbus_training.inside_air_bnb_project_schema;"
   ]
  },
  {
   "cell_type": "code",
   "execution_count": 0,
   "metadata": {
    "application/vnd.databricks.v1+cell": {
     "cellMetadata": {
      "byteLimit": 2048000,
      "rowLimit": 10000
     },
     "inputWidgets": {},
     "nuid": "8886f1d1-37ca-4454-973e-7946c198464a",
     "showTitle": false,
     "tableResultSettingsMap": {},
     "title": ""
    }
   },
   "outputs": [],
   "source": [
    "#write to delta format and saving tables to schema inside_air_bnb_project_schema\n",
    "\n",
    "listings.write.format(\"delta\").mode(\"overwrite\").saveAsTable(\"inside_air_bnb_project_schema.bronze_listings\");\n",
    "reviews.write.format(\"delta\").mode(\"overwrite\").saveAsTable(\"inside_air_bnb_project_schema.bronze_reviews\");"
   ]
  },
  {
   "cell_type": "code",
   "execution_count": 0,
   "metadata": {
    "application/vnd.databricks.v1+cell": {
     "cellMetadata": {
      "byteLimit": 2048000,
      "rowLimit": 10000
     },
     "inputWidgets": {},
     "nuid": "ab62d946-3a88-41f4-ad5c-837aeb216dad",
     "showTitle": false,
     "tableResultSettingsMap": {},
     "title": ""
    }
   },
   "outputs": [],
   "source": [
    "tables = spark.sql(\"SHOW TABLES IN inside_air_bnb_project_schema\")\n",
    "display(tables)"
   ]
  },
  {
   "cell_type": "code",
   "execution_count": 0,
   "metadata": {
    "application/vnd.databricks.v1+cell": {
     "cellMetadata": {
      "byteLimit": 2048000,
      "rowLimit": 10000
     },
     "inputWidgets": {},
     "nuid": "9ba5d4e2-5c15-43dc-bc1e-70082c8cb58c",
     "showTitle": false,
     "tableResultSettingsMap": {},
     "title": ""
    }
   },
   "outputs": [],
   "source": [
    "bronze_listings = spark.table(\"inside_air_bnb_project_schema.bronze_listings\")\n",
    "display(bronze_listings)"
   ]
  }
 ],
 "metadata": {
  "application/vnd.databricks.v1+notebook": {
   "computePreferences": null,
   "dashboards": [],
   "environmentMetadata": {
    "base_environment": "",
    "environment_version": "2"
   },
   "inputWidgetPreferences": null,
   "language": "python",
   "notebookMetadata": {
    "mostRecentlyExecutedCommandWithImplicitDF": {
     "commandId": 8902791249550776,
     "dataframes": [
      "_sqldf"
     ]
    },
    "pythonIndentUnit": 4
   },
   "notebookName": "Ingest Raw DataSets",
   "widgets": {}
  },
  "language_info": {
   "name": "python"
  }
 },
 "nbformat": 4,
 "nbformat_minor": 0
}
